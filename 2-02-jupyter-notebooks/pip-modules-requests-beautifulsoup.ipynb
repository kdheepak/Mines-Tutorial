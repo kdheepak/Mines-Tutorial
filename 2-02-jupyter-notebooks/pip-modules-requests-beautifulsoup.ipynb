{
 "cells": [
  {
   "cell_type": "markdown",
   "metadata": {},
   "source": [
    "### PIP"
   ]
  },
  {
   "cell_type": "markdown",
   "metadata": {},
   "source": [
    "From the command line, you can run the following\n",
    "\n",
    "```bash\n",
    "pip install package_name\n",
    "```"
   ]
  },
  {
   "cell_type": "markdown",
   "metadata": {},
   "source": [
    "Try installing `beautifulsoup`"
   ]
  },
  {
   "cell_type": "markdown",
   "metadata": {},
   "source": [
    "```bash\n",
    "pip install beautifulsoup\n",
    "```"
   ]
  },
  {
   "cell_type": "code",
   "execution_count": 3,
   "metadata": {},
   "outputs": [],
   "source": [
    "import bs4"
   ]
  },
  {
   "cell_type": "code",
   "execution_count": 5,
   "metadata": {},
   "outputs": [],
   "source": [
    "import requests"
   ]
  },
  {
   "cell_type": "code",
   "execution_count": 15,
   "metadata": {},
   "outputs": [],
   "source": [
    "url = \"https://xkcd.com\""
   ]
  },
  {
   "cell_type": "code",
   "execution_count": 16,
   "metadata": {},
   "outputs": [],
   "source": [
    "response = requests.get(url)"
   ]
  },
  {
   "cell_type": "code",
   "execution_count": 17,
   "metadata": {},
   "outputs": [],
   "source": [
    "soup = bs4.BeautifulSoup(response.content, \"lxml\")"
   ]
  },
  {
   "cell_type": "code",
   "execution_count": 18,
   "metadata": {
    "scrolled": false
   },
   "outputs": [
    {
     "data": {
      "text/plain": [
       "<!DOCTYPE html>\n",
       "<html>\n",
       "<head>\n",
       "<link href=\"/s/b0dcca.css\" rel=\"stylesheet\" title=\"Default\" type=\"text/css\"/>\n",
       "<title>xkcd: Equations</title>\n",
       "<meta content=\"IE=edge\" http-equiv=\"X-UA-Compatible\"/>\n",
       "<link href=\"/s/919f27.ico\" rel=\"shortcut icon\" type=\"image/x-icon\"/>\n",
       "<link href=\"/s/919f27.ico\" rel=\"icon\" type=\"image/x-icon\"/>\n",
       "<link href=\"/atom.xml\" rel=\"alternate\" title=\"Atom 1.0\" type=\"application/atom+xml\"/>\n",
       "<link href=\"/rss.xml\" rel=\"alternate\" title=\"RSS 2.0\" type=\"application/rss+xml\"/>\n",
       "<script async=\"\" src=\"/s/b66ed7.js\" type=\"text/javascript\"></script>\n",
       "<script async=\"\" src=\"/s/1b9456.js\" type=\"text/javascript\"></script>\n",
       "</head>\n",
       "<body>\n",
       "<div id=\"topContainer\">\n",
       "<div id=\"topLeft\">\n",
       "<ul>\n",
       "<li><a href=\"/archive\">Archive</a></li>\n",
       "<li><a href=\"http://what-if.xkcd.com\">What If?</a></li>\n",
       "<li><a href=\"http://blag.xkcd.com\">Blag</a></li>\n",
       "<li><a href=\"http://store.xkcd.com/\">Store</a></li>\n",
       "<li><a href=\"/about\" rel=\"author\">About</a></li>\n",
       "</ul>\n",
       "</div>\n",
       "<div id=\"topRight\">\n",
       "<div id=\"masthead\">\n",
       "<span><a href=\"/\"><img alt=\"xkcd.com logo\" height=\"83\" src=\"/s/0b7742.png\" width=\"185\"/></a></span>\n",
       "<span id=\"slogan\">A webcomic of romance,<br/> sarcasm, math, and language.</span>\n",
       "</div>\n",
       "<div id=\"news\">\n",
       "xkcd updates every Monday, Wednesday, and Friday.\n",
       "\n",
       "</div>\n",
       "</div>\n",
       "<div class=\"bg box\" id=\"bgLeft\"></div>\n",
       "<div class=\"bg box\" id=\"bgRight\"></div>\n",
       "</div>\n",
       "<div class=\"box\" id=\"middleContainer\">\n",
       "<div id=\"ctitle\">Equations</div>\n",
       "<ul class=\"comicNav\">\n",
       "<li><a href=\"/1/\">|&lt;</a></li>\n",
       "<li><a accesskey=\"p\" href=\"/2033/\" rel=\"prev\">&lt; Prev</a></li>\n",
       "<li><a href=\"//c.xkcd.com/random/comic/\">Random</a></li>\n",
       "<li><a accesskey=\"n\" href=\"#\" rel=\"next\">Next &gt;</a></li>\n",
       "<li><a href=\"/\">&gt;|</a></li>\n",
       "</ul>\n",
       "<div id=\"comic\">\n",
       "<img alt=\"Equations\" src=\"//imgs.xkcd.com/comics/equations.png\" srcset=\"//imgs.xkcd.com/comics/equations_2x.png 2x\" title=\"All electromagnetic equations: The same as all fluid dynamics equations, but with the 8 and 23 replaced with the permittivity and permeability of free space, respectively.\"/>\n",
       "</div>\n",
       "<ul class=\"comicNav\">\n",
       "<li><a href=\"/1/\">|&lt;</a></li>\n",
       "<li><a accesskey=\"p\" href=\"/2033/\" rel=\"prev\">&lt; Prev</a></li>\n",
       "<li><a href=\"//c.xkcd.com/random/comic/\">Random</a></li>\n",
       "<li><a accesskey=\"n\" href=\"#\" rel=\"next\">Next &gt;</a></li>\n",
       "<li><a href=\"/\">&gt;|</a></li>\n",
       "</ul>\n",
       "<br/>\n",
       "Permanent link to this comic: https://xkcd.com/2034/<br/>\n",
       "Image URL (for hotlinking/embedding): https://imgs.xkcd.com/comics/equations.png\n",
       "<div id=\"transcript\" style=\"display: none\"></div>\n",
       "</div>\n",
       "<div class=\"box\" id=\"bottom\">\n",
       "<img alt=\"Selected Comics\" height=\"100\" src=\"//imgs.xkcd.com/s/a899e84.jpg\" usemap=\"#comicmap\" width=\"520\"/>\n",
       "<map id=\"comicmap\" name=\"comicmap\">\n",
       "<area alt=\"Grownups\" coords=\"0,0,100,100\" href=\"/150/\" shape=\"rect\"/>\n",
       "<area alt=\"Circuit Diagram\" coords=\"104,0,204,100\" href=\"/730/\" shape=\"rect\"/>\n",
       "<area alt=\"Angular Momentum\" coords=\"208,0,308,100\" href=\"/162/\" shape=\"rect\"/>\n",
       "<area alt=\"Self-Description\" coords=\"312,0,412,100\" href=\"/688/\" shape=\"rect\"/>\n",
       "<area alt=\"Alternative Energy Revolution\" coords=\"416,0,520,100\" href=\"/556/\" shape=\"rect\"/>\n",
       "</map>\n",
       "<div>\n",
       "<!--\n",
       "Search comic titles and transcripts:\n",
       "<script type=\"text/javascript\" src=\"//www.google.com/jsapi\"></script>\n",
       "<script type=\"text/javascript\">google.load('search', '1');google.setOnLoadCallback(function() {google.search.CustomSearchControl.attachAutoCompletion('012652707207066138651:zudjtuwe28q',document.getElementById('q'),'cse-search-box');});</script>\n",
       "<form action=\"//www.google.com/cse\" id=\"cse-search-box\">\n",
       "<div>\n",
       "<input type=\"hidden\" name=\"cx\" value=\"012652707207066138651:zudjtuwe28q\"/>\n",
       "<input type=\"hidden\" name=\"ie\" value=\"UTF-8\"/>\n",
       "<input type=\"text\" name=\"q\" id=\"q\" size=\"31\"/>\n",
       "<input type=\"submit\" name=\"sa\" value=\"Search\"/>\n",
       "</div>\n",
       "</form>\n",
       "<script type=\"text/javascript\" src=\"//www.google.com/cse/brand?form=cse-search-box&amp;lang=en\"></script>\n",
       "-->\n",
       "<a href=\"/rss.xml\">RSS Feed</a> - <a href=\"/atom.xml\">Atom Feed</a>\n",
       "</div>\n",
       "<br/>\n",
       "<div id=\"comicLinks\">\n",
       "Comics I enjoy:<br/>\n",
       "<a href=\"http://threewordphrase.com/\">Three Word Phrase</a>,\n",
       "        <a href=\"http://www.smbc-comics.com/\">SMBC</a>,\n",
       "        <a href=\"http://www.qwantz.com\">Dinosaur Comics</a>,\n",
       "        <a href=\"http://oglaf.com/\">Oglaf</a> (nsfw),\n",
       "        <a href=\"http://www.asofterworld.com\">A Softer World</a>,\n",
       "        <a href=\"http://buttersafe.com/\">Buttersafe</a>,\n",
       "        <a href=\"http://pbfcomics.com/\">Perry Bible Fellowship</a>,\n",
       "        <a href=\"http://questionablecontent.net/\">Questionable Content</a>,\n",
       "        <a href=\"http://www.buttercupfestival.com/\">Buttercup Festival</a>,\n",
       "        <a href=\"http://www.mspaintadventures.com/?s=6&amp;p=001901\">Homestuck</a>,\n",
       "\t<a href=\"http://www.jspowerhour.com/\">Junior Scientist Power Hour</a>,\n",
       "</div>\n",
       "<br/>\n",
       "<div id=\"comicLinks\">\n",
       "Other things:<br/>\n",
       "<a href=\"http://womenalsoknowstuff.com/\">Women Also Know Stuff</a>,\n",
       "        <a href=\"https://techsolidarity.org/\">Tech Solidarity</a>,\n",
       "        <a href=\"https://medium.com/civic-tech-thoughts-from-joshdata/so-you-want-to-reform-democracy-7f3b1ef10597\">Tips on technology and government</a>\n",
       "</div>\n",
       "<br/>\n",
       "<center>\n",
       "<div id=\"footnote\" style=\"width:70%\">xkcd.com is best viewed with Netscape Navigator 4.0 or below on a Pentium 3±1 emulated in Javascript on an Apple IIGS<br/>at a screen resolution of 1024x1. Please enable your ad blockers, disable high-heat drying, and remove your device<br/>from Airplane Mode and set it to Boat Mode. For security reasons, please leave caps lock on while browsing.</div>\n",
       "</center>\n",
       "<div id=\"licenseText\">\n",
       "<p>\n",
       "This work is licensed under a\n",
       "<a href=\"http://creativecommons.org/licenses/by-nc/2.5/\">Creative Commons Attribution-NonCommercial 2.5 License</a>.\n",
       "</p><p>\n",
       "This means you're free to copy and share these comics (but not to sell them). <a href=\"/license.html\" rel=\"license\">More details</a>.</p>\n",
       "</div>\n",
       "</div>\n",
       "</body>\n",
       "<!-- Layout by Ian Clasbey, davean, and chromakode -->\n",
       "</html>"
      ]
     },
     "execution_count": 18,
     "metadata": {},
     "output_type": "execute_result"
    }
   ],
   "source": [
    "soup"
   ]
  },
  {
   "cell_type": "code",
   "execution_count": null,
   "metadata": {},
   "outputs": [],
   "source": []
  },
  {
   "cell_type": "code",
   "execution_count": null,
   "metadata": {},
   "outputs": [],
   "source": []
  },
  {
   "cell_type": "code",
   "execution_count": null,
   "metadata": {},
   "outputs": [],
   "source": []
  },
  {
   "cell_type": "code",
   "execution_count": null,
   "metadata": {},
   "outputs": [],
   "source": []
  },
  {
   "cell_type": "code",
   "execution_count": null,
   "metadata": {},
   "outputs": [],
   "source": []
  },
  {
   "cell_type": "code",
   "execution_count": null,
   "metadata": {},
   "outputs": [],
   "source": []
  },
  {
   "cell_type": "code",
   "execution_count": null,
   "metadata": {},
   "outputs": [],
   "source": []
  },
  {
   "cell_type": "code",
   "execution_count": null,
   "metadata": {},
   "outputs": [],
   "source": []
  },
  {
   "cell_type": "code",
   "execution_count": null,
   "metadata": {},
   "outputs": [],
   "source": []
  },
  {
   "cell_type": "code",
   "execution_count": null,
   "metadata": {},
   "outputs": [],
   "source": []
  }
 ],
 "metadata": {
  "hide_input": false,
  "kernelspec": {
   "display_name": "Python [default]",
   "language": "python",
   "name": "python3"
  },
  "language_info": {
   "codemirror_mode": {
    "name": "ipython",
    "version": 3
   },
   "file_extension": ".py",
   "mimetype": "text/x-python",
   "name": "python",
   "nbconvert_exporter": "python",
   "pygments_lexer": "ipython3",
   "version": "3.6.4"
  },
  "varInspector": {
   "cols": {
    "lenName": 16,
    "lenType": 16,
    "lenVar": 40
   },
   "kernels_config": {
    "python": {
     "delete_cmd_postfix": "",
     "delete_cmd_prefix": "del ",
     "library": "var_list.py",
     "varRefreshCmd": "print(var_dic_list())"
    },
    "r": {
     "delete_cmd_postfix": ") ",
     "delete_cmd_prefix": "rm(",
     "library": "var_list.r",
     "varRefreshCmd": "cat(var_dic_list()) "
    }
   },
   "types_to_exclude": [
    "module",
    "function",
    "builtin_function_or_method",
    "instance",
    "_Feature"
   ],
   "window_display": false
  }
 },
 "nbformat": 4,
 "nbformat_minor": 2
}
